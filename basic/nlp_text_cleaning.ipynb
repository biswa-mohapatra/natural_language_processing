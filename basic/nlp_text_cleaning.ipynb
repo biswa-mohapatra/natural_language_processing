{
 "cells": [
  {
   "cell_type": "markdown",
   "metadata": {},
   "source": [
    "# Data Cleaning\n",
    "The raw text data comes directly after the various sources are not cleaned. We apply multiple steps to make data clean. Un-cleaned text data contains useless information that deviates results, so it’s always the first step to clean the data. Some standard preprocessing techniques should be applied to make data cleaner. Cleaned data also prevent models from overfitting.\n",
    "In this article, we will see the following topics under text processing and exploratory data analysis.\n",
    "I am converting the raw text data into a pandas data frame and performing various data cleaning techniques.\n"
   ]
  },
  {
   "cell_type": "code",
   "execution_count": 2,
   "metadata": {},
   "outputs": [],
   "source": [
    "import pandas as pd\n",
    "text = ['This is the NLP TASKS ARTICLE written by ABhishek Jaiswal** ','IN this article I”ll be explaining various DATA-CLEANING techniques',\n",
    " 'So stay tuned for FURther More &&','Nah I don\"t think he goes to usf, he lives around']\n",
    "df = pd.DataFrame({'text':text})"
   ]
  },
  {
   "cell_type": "code",
   "execution_count": 3,
   "metadata": {},
   "outputs": [
    {
     "data": {
      "text/html": [
       "<div>\n",
       "<style scoped>\n",
       "    .dataframe tbody tr th:only-of-type {\n",
       "        vertical-align: middle;\n",
       "    }\n",
       "\n",
       "    .dataframe tbody tr th {\n",
       "        vertical-align: top;\n",
       "    }\n",
       "\n",
       "    .dataframe thead th {\n",
       "        text-align: right;\n",
       "    }\n",
       "</style>\n",
       "<table border=\"1\" class=\"dataframe\">\n",
       "  <thead>\n",
       "    <tr style=\"text-align: right;\">\n",
       "      <th></th>\n",
       "      <th>text</th>\n",
       "    </tr>\n",
       "  </thead>\n",
       "  <tbody>\n",
       "    <tr>\n",
       "      <th>0</th>\n",
       "      <td>This is the NLP TASKS ARTICLE written by ABhis...</td>\n",
       "    </tr>\n",
       "    <tr>\n",
       "      <th>1</th>\n",
       "      <td>IN this article I”ll be explaining various DAT...</td>\n",
       "    </tr>\n",
       "    <tr>\n",
       "      <th>2</th>\n",
       "      <td>So stay tuned for FURther More &amp;&amp;</td>\n",
       "    </tr>\n",
       "    <tr>\n",
       "      <th>3</th>\n",
       "      <td>Nah I don\"t think he goes to usf, he lives around</td>\n",
       "    </tr>\n",
       "  </tbody>\n",
       "</table>\n",
       "</div>"
      ],
      "text/plain": [
       "                                                text\n",
       "0  This is the NLP TASKS ARTICLE written by ABhis...\n",
       "1  IN this article I”ll be explaining various DAT...\n",
       "2                  So stay tuned for FURther More &&\n",
       "3  Nah I don\"t think he goes to usf, he lives around"
      ]
     },
     "execution_count": 3,
     "metadata": {},
     "output_type": "execute_result"
    }
   ],
   "source": [
    "df"
   ]
  },
  {
   "cell_type": "code",
   "execution_count": 4,
   "metadata": {},
   "outputs": [],
   "source": [
    "# lowering the texts\n",
    "\n",
    "df['lower'] = df['text'].apply(lambda x: \" \".join(x.lower()  for x in x.split()))"
   ]
  },
  {
   "cell_type": "code",
   "execution_count": 5,
   "metadata": {},
   "outputs": [
    {
     "data": {
      "text/html": [
       "<div>\n",
       "<style scoped>\n",
       "    .dataframe tbody tr th:only-of-type {\n",
       "        vertical-align: middle;\n",
       "    }\n",
       "\n",
       "    .dataframe tbody tr th {\n",
       "        vertical-align: top;\n",
       "    }\n",
       "\n",
       "    .dataframe thead th {\n",
       "        text-align: right;\n",
       "    }\n",
       "</style>\n",
       "<table border=\"1\" class=\"dataframe\">\n",
       "  <thead>\n",
       "    <tr style=\"text-align: right;\">\n",
       "      <th></th>\n",
       "      <th>text</th>\n",
       "      <th>lower</th>\n",
       "    </tr>\n",
       "  </thead>\n",
       "  <tbody>\n",
       "    <tr>\n",
       "      <th>0</th>\n",
       "      <td>This is the NLP TASKS ARTICLE written by ABhis...</td>\n",
       "      <td>this is the nlp tasks article written by abhis...</td>\n",
       "    </tr>\n",
       "    <tr>\n",
       "      <th>1</th>\n",
       "      <td>IN this article I”ll be explaining various DAT...</td>\n",
       "      <td>in this article i”ll be explaining various dat...</td>\n",
       "    </tr>\n",
       "    <tr>\n",
       "      <th>2</th>\n",
       "      <td>So stay tuned for FURther More &amp;&amp;</td>\n",
       "      <td>so stay tuned for further more &amp;&amp;</td>\n",
       "    </tr>\n",
       "    <tr>\n",
       "      <th>3</th>\n",
       "      <td>Nah I don\"t think he goes to usf, he lives around</td>\n",
       "      <td>nah i don\"t think he goes to usf, he lives around</td>\n",
       "    </tr>\n",
       "  </tbody>\n",
       "</table>\n",
       "</div>"
      ],
      "text/plain": [
       "                                                text  \\\n",
       "0  This is the NLP TASKS ARTICLE written by ABhis...   \n",
       "1  IN this article I”ll be explaining various DAT...   \n",
       "2                  So stay tuned for FURther More &&   \n",
       "3  Nah I don\"t think he goes to usf, he lives around   \n",
       "\n",
       "                                               lower  \n",
       "0  this is the nlp tasks article written by abhis...  \n",
       "1  in this article i”ll be explaining various dat...  \n",
       "2                  so stay tuned for further more &&  \n",
       "3  nah i don\"t think he goes to usf, he lives around  "
      ]
     },
     "execution_count": 5,
     "metadata": {},
     "output_type": "execute_result"
    }
   ],
   "source": [
    "df"
   ]
  },
  {
   "cell_type": "code",
   "execution_count": 6,
   "metadata": {},
   "outputs": [],
   "source": [
    "# Punctuation Removal \n",
    "# Removing punctuation(*,&,%#@#()) is a crucial step since punctuation doesn’t add any extra information or value to our data"
   ]
  },
  {
   "cell_type": "code",
   "execution_count": 7,
   "metadata": {},
   "outputs": [
    {
     "data": {
      "text/plain": [
       "'!\"#$%&\\'()*+,-./:;<=>?@[\\\\]^_`{|}~'"
      ]
     },
     "execution_count": 7,
     "metadata": {},
     "output_type": "execute_result"
    }
   ],
   "source": [
    "import string\n",
    "string.punctuation"
   ]
  },
  {
   "cell_type": "code",
   "execution_count": 8,
   "metadata": {},
   "outputs": [
    {
     "data": {
      "text/plain": [
       "0    This is the NLP TASKS ARTICLE written by ABhis...\n",
       "1    IN this article I”ll be explaining various DAT...\n",
       "2                      So stay tuned for FURther More \n",
       "3      Nah I dont think he goes to usf he lives around\n",
       "Name: text, dtype: object"
      ]
     },
     "execution_count": 8,
     "metadata": {},
     "output_type": "execute_result"
    }
   ],
   "source": [
    "df.text.apply(lambda x: \"\".join(i for i in x if i not in string.punctuation))"
   ]
  },
  {
   "cell_type": "code",
   "execution_count": 9,
   "metadata": {},
   "outputs": [
    {
     "data": {
      "text/plain": [
       "0    This is the NLP TASKS ARTICLE written by ABhis...\n",
       "1    IN this article Ill be explaining various DATA...\n",
       "2                      So stay tuned for FURther More \n",
       "3     Nah I don\"t think he goes to usf he lives around\n",
       "Name: text, dtype: object"
      ]
     },
     "execution_count": 9,
     "metadata": {},
     "output_type": "execute_result"
    }
   ],
   "source": [
    "# we can also regex for the same\n",
    "import re\n",
    "df.text.apply(lambda x: ''.join(re.findall(r'[a-zA-Z+\" \"]',x)))"
   ]
  },
  {
   "cell_type": "markdown",
   "metadata": {},
   "source": [
    "# stop word removal"
   ]
  },
  {
   "cell_type": "code",
   "execution_count": 10,
   "metadata": {},
   "outputs": [
    {
     "name": "stderr",
     "output_type": "stream",
     "text": [
      "[nltk_data] Downloading package stopwords to\n",
      "[nltk_data]     C:\\Users\\BiswajitRajguruMohap\\AppData\\Roaming\\nltk_dat\n",
      "[nltk_data]     a...\n",
      "[nltk_data]   Package stopwords is already up-to-date!\n"
     ]
    },
    {
     "data": {
      "text/plain": [
       "True"
      ]
     },
     "execution_count": 10,
     "metadata": {},
     "output_type": "execute_result"
    }
   ],
   "source": [
    "import nltk\n",
    "nltk.download('stopwords')"
   ]
  },
  {
   "cell_type": "code",
   "execution_count": 11,
   "metadata": {},
   "outputs": [
    {
     "data": {
      "text/plain": [
       "0         nlp tasks article written abhishek jaiswal**\n",
       "1    article i”ll explaining various data-cleaning ...\n",
       "2                                        stay tuned &&\n",
       "3               nah don\"t think goes usf, lives around\n",
       "Name: lower, dtype: object"
      ]
     },
     "execution_count": 11,
     "metadata": {},
     "output_type": "execute_result"
    }
   ],
   "source": [
    "from nltk.corpus import stopwords\n",
    "all_stopwords = stopwords.words('english')\n",
    "df.lower.apply(lambda x: \" \".join(i for i in x.split() if i not in all_stopwords))"
   ]
  },
  {
   "cell_type": "code",
   "execution_count": 12,
   "metadata": {},
   "outputs": [
    {
     "data": {
      "text/plain": [
       "0    this is the nap tasks article written by abhis...\n",
       "1    in this article i”ll be explaining various dat...\n",
       "2                    so stay tuned for further more &&\n",
       "3      ah i don\"t think he goes to us, he lives around\n",
       "Name: lower, dtype: object"
      ]
     },
     "execution_count": 12,
     "metadata": {},
     "output_type": "execute_result"
    }
   ],
   "source": [
    "# spelling correction\n",
    "# pip install textblob\n",
    "from textblob import TextBlob\n",
    "df['lower'].apply(lambda x: str(TextBlob(x).correct()))"
   ]
  },
  {
   "cell_type": "code",
   "execution_count": null,
   "metadata": {},
   "outputs": [],
   "source": []
  }
 ],
 "metadata": {
  "kernelspec": {
   "display_name": "venv",
   "language": "python",
   "name": "python3"
  },
  "language_info": {
   "codemirror_mode": {
    "name": "ipython",
    "version": 3
   },
   "file_extension": ".py",
   "mimetype": "text/x-python",
   "name": "python",
   "nbconvert_exporter": "python",
   "pygments_lexer": "ipython3",
   "version": "3.12.4"
  }
 },
 "nbformat": 4,
 "nbformat_minor": 2
}

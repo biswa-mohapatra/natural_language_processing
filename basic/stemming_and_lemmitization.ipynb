{
 "cells": [
  {
   "cell_type": "markdown",
   "metadata": {},
   "source": [
    "# Introduction\n",
    "\n",
    "In NLP(Natural Language Processing), Lemmatization and Stemming play important roles in Text Normalization.\n",
    "\n",
    "*<ins>Text Normalization :</ins> It is process of cleaning and preprocessing a text data to make it consistent and useable for different NLP tasks.*\n",
    "\n",
    "These fundamental methods are employed to prepare words, text, and documents for subsequent processing. While we implement and compare these two approaches it is essential to to understand and recognize their distinct approaches in simplifying and standardizing language, enhancing the efficiency of various NLP applications.\n",
    "\n",
    "Various languages suach as Hindi and English consists of several words which are often derived fro one another. Inflected Language is a term that we use for these languages which hve derrived words. \n",
    "\n",
    "There is always a common root for all the inflected words altough the degree of inflection highly depends upon the language we are dealing with. \n",
    "\n",
    "**To sum up, root form of derived or inflected words are attained using Stemming and Lemmatization.**"
   ]
  },
  {
   "cell_type": "markdown",
   "metadata": {},
   "source": [
    "So, if the overall idea of the preprocessing step to bring in normalization to the text is clear let us jump into knowing what is Stemming.\n",
    "\n",
    "*<ins>Stemming:</ins>* It is a process of reducing the inflected words to their stem. For instance, stemming will replace the word <ins>history</ins> and <ins>historical</ins> with <ins>histori</ins>. \n",
    "\n",
    "Stemming is the process of removing the last few characters of a given word, to obtain a shorter form, even if that form doesn't have any meaning."
   ]
  },
  {
   "cell_type": "markdown",
   "metadata": {},
   "source": [
    "## Why we Need Stemming?\n",
    "In NLP usecases such as sentiment analysis, spam classification, res\n"
   ]
  },
  {
   "cell_type": "code",
   "execution_count": 14,
   "metadata": {},
   "outputs": [],
   "source": [
    "# Stemming\n",
    "\n",
    "import nltk\n",
    "try:\n",
    "    from nltk.corpus import stopwords\n",
    "    from nltk.stem import (PorterStemmer, \n",
    "                           SnowballStemmer, \n",
    "                           RegexpStemmer, \n",
    "                           LancasterStemmer)\n",
    "except:\n",
    "    nltk.download('stopwords')\n",
    "    nltk.download('punkt')\n",
    "    from nltk.corpus import stopwords\n",
    "    from nltk.stem import (PorterStemmer, \n",
    "                           SnowballStemmer, \n",
    "                           RegexpStemmer, \n",
    "                           LancasterStemmer)"
   ]
  },
  {
   "cell_type": "code",
   "execution_count": 3,
   "metadata": {},
   "outputs": [],
   "source": [
    "paragraph = \"\"\"\n",
    "Generative artificial intelligence (generative AI, GenAI,or GAI) is artificial intelligence capable of generating text, images, videos, or other data using generative models, often in response to prompts. \n",
    "Generative AI models learn the patterns and structure of their input training data and then generate new data that has similar characteristics.\n",
    "Improvements in transformer-based deep neural networks, particularly large language models (LLMs), enabled an AI boom of generative AI systems in the early 2020s. \n",
    "These include chatbots such as ChatGPT, Copilot, Gemini and LLaMA, text-to-image artificial intelligence image generation systems such as Stable Diffusion, Midjourney and DALL-E, and text-to-video AI generators such as Sora.\n",
    "Companies such as OpenAI, Anthropic, Microsoft, Google, and Baidu as well as numerous smaller firms have developed generative AI models.\n",
    "\"\"\""
   ]
  },
  {
   "cell_type": "code",
   "execution_count": 4,
   "metadata": {},
   "outputs": [
    {
     "name": "stdout",
     "output_type": "stream",
     "text": [
      "['\\nGenerative artificial intelligence (generative AI, GenAI,or GAI) is artificial intelligence capable of generating text, images, videos, or other data using generative models, often in response to prompts.', 'Generative AI models learn the patterns and structure of their input training data and then generate new data that has similar characteristics.', 'Improvements in transformer-based deep neural networks, particularly large language models (LLMs), enabled an AI boom of generative AI systems in the early 2020s.', 'These include chatbots such as ChatGPT, Copilot, Gemini and LLaMA, text-to-image artificial intelligence image generation systems such as Stable Diffusion, Midjourney and DALL-E, and text-to-video AI generators such as Sora.', 'Companies such as OpenAI, Anthropic, Microsoft, Google, and Baidu as well as numerous smaller firms have developed generative AI models.']\n"
     ]
    }
   ],
   "source": [
    "scentences = nltk.sent_tokenize(paragraph)\n",
    "print(scentences)"
   ]
  },
  {
   "cell_type": "code",
   "execution_count": 17,
   "metadata": {},
   "outputs": [],
   "source": [
    "porter_stemmer = PorterStemmer()\n",
    "snowball_stemmer = SnowballStemmer(language='english')\n",
    "regex_stemmer = RegexpStemmer('ing$|s$|e$|able$', min=4)\n",
    "lancaster_stemmer = LancasterStemmer()"
   ]
  },
  {
   "cell_type": "code",
   "execution_count": 13,
   "metadata": {},
   "outputs": [
    {
     "name": "stdout",
     "output_type": "stream",
     "text": [
      "['gener artifici intellig ( gener ai , genai , gai ) artifici intellig capabl gener text , imag , video , data use gener model , often respons prompt .', 'gener ai model learn pattern structur input train data gener new data similar characterist .', 'improv transformer-bas deep neural network , particularli larg languag model ( llm ) , enabl ai boom gener ai system earli 2020 .', 'these includ chatbot chatgpt , copilot , gemini llama , text-to-imag artifici intellig imag gener system stabl diffus , midjourney dall- , text-to-video ai gener sora .', 'compani openai , anthrop , microsoft , googl , baidu well numer smaller firm develop gener ai model .']\n"
     ]
    }
   ],
   "source": [
    "results:list = []\n",
    "for scent in scentences:\n",
    "    words = nltk.word_tokenize(scent)\n",
    "    words = [porter_stemmer.stem(word) for word in words if word not in set(stopwords.words('english'))]\n",
    "    results.append(' '.join(words))\n",
    "\n",
    "print(scentences)\n"
   ]
  },
  {
   "cell_type": "code",
   "execution_count": 18,
   "metadata": {},
   "outputs": [
    {
     "name": "stdout",
     "output_type": "stream",
     "text": [
      "['gener artifici intellig ( gener ai , genai , gai ) artifici intellig capabl gener text , imag , video , data use gener model , often respons prompt .', 'gener ai model learn pattern structur input train data gener new data similar characterist .', 'improv transformer-bas deep neural network , particularli larg languag model ( llm ) , enabl ai boom gener ai system earli 2020 .', 'these includ chatbot chatgpt , copilot , gemini llama , text-to-imag artifici intellig imag gener system stabl diffus , midjourney dall- , text-to-video ai gener sora .', 'compani openai , anthrop , microsoft , googl , baidu well numer smaller firm develop gener ai model .']\n"
     ]
    }
   ],
   "source": [
    "results:list = []\n",
    "for scent in scentences:\n",
    "    words = nltk.word_tokenize(scent)\n",
    "    words = [snowball_stemmer.stem(word) for word in words if word not in set(stopwords.words('english'))]\n",
    "    results.append(' '.join(words))\n",
    "\n",
    "print(scentences)\n"
   ]
  },
  {
   "cell_type": "code",
   "execution_count": 19,
   "metadata": {},
   "outputs": [
    {
     "name": "stdout",
     "output_type": "stream",
     "text": [
      "['gener artifici intellig ( gener ai , genai , gai ) artifici intellig capabl gener text , imag , video , data use gener model , often respons prompt .', 'gener ai model learn pattern structur input train data gener new data similar characterist .', 'improv transformer-bas deep neural network , particularli larg languag model ( llm ) , enabl ai boom gener ai system earli 2020 .', 'these includ chatbot chatgpt , copilot , gemini llama , text-to-imag artifici intellig imag gener system stabl diffus , midjourney dall- , text-to-video ai gener sora .', 'compani openai , anthrop , microsoft , googl , baidu well numer smaller firm develop gener ai model .']\n"
     ]
    }
   ],
   "source": [
    "results:list = []\n",
    "for scent in scentences:\n",
    "    words = nltk.word_tokenize(scent)\n",
    "    words = [regex_stemmer.stem(word) for word in words if word not in set(stopwords.words('english'))]\n",
    "    results.append(' '.join(words))\n",
    "\n",
    "print(scentences)\n"
   ]
  },
  {
   "cell_type": "code",
   "execution_count": 20,
   "metadata": {},
   "outputs": [
    {
     "name": "stdout",
     "output_type": "stream",
     "text": [
      "['gener artifici intellig ( gener ai , genai , gai ) artifici intellig capabl gener text , imag , video , data use gener model , often respons prompt .', 'gener ai model learn pattern structur input train data gener new data similar characterist .', 'improv transformer-bas deep neural network , particularli larg languag model ( llm ) , enabl ai boom gener ai system earli 2020 .', 'these includ chatbot chatgpt , copilot , gemini llama , text-to-imag artifici intellig imag gener system stabl diffus , midjourney dall- , text-to-video ai gener sora .', 'compani openai , anthrop , microsoft , googl , baidu well numer smaller firm develop gener ai model .']\n"
     ]
    }
   ],
   "source": [
    "results:list = []\n",
    "for scent in scentences:\n",
    "    words = nltk.word_tokenize(scent)\n",
    "    words = [lancaster_stemmer.stem(word) for word in words if word not in set(stopwords.words('english'))]\n",
    "    results.append(' '.join(words))\n",
    "\n",
    "print(scentences)"
   ]
  },
  {
   "cell_type": "code",
   "execution_count": 7,
   "metadata": {},
   "outputs": [
    {
     "name": "stderr",
     "output_type": "stream",
     "text": [
      "[nltk_data] Downloading package stopwords to\n",
      "[nltk_data]     C:\\Users\\BiswajitRajguruMohap\\AppData\\Roaming\\nltk_dat\n",
      "[nltk_data]     a...\n",
      "[nltk_data]   Package stopwords is already up-to-date!\n",
      "[nltk_data] Downloading package punkt to\n",
      "[nltk_data]     C:\\Users\\BiswajitRajguruMohap\\AppData\\Roaming\\nltk_dat\n",
      "[nltk_data]     a...\n",
      "[nltk_data]   Package punkt is already up-to-date!\n",
      "[nltk_data] Downloading package wordnet to\n",
      "[nltk_data]     C:\\Users\\BiswajitRajguruMohap\\AppData\\Roaming\\nltk_dat\n",
      "[nltk_data]     a...\n",
      "[nltk_data]   Package wordnet is already up-to-date!\n"
     ]
    }
   ],
   "source": [
    "#Lemmatization\n",
    "\n",
    "import nltk\n",
    "nltk.download('stopwords')\n",
    "nltk.download('punkt')\n",
    "nltk.download('wordnet')\n",
    "from nltk.stem import WordNetLemmatizer\n",
    "from nltk.corpus import stopwords"
   ]
  },
  {
   "cell_type": "code",
   "execution_count": 8,
   "metadata": {},
   "outputs": [
    {
     "name": "stdout",
     "output_type": "stream",
     "text": [
      "['\\nGenerative artificial intelligence (generative AI, GenAI,or GAI) is artificial intelligence capable of generating text, images, videos, or other data using generative models, often in response to prompts.', 'Generative AI models learn the patterns and structure of their input training data and then generate new data that has similar characteristics.', 'Improvements in transformer-based deep neural networks, particularly large language models (LLMs), enabled an AI boom of generative AI systems in the early 2020s.', 'These include chatbots such as ChatGPT, Copilot, Gemini and LLaMA, text-to-image artificial intelligence image generation systems such as Stable Diffusion, Midjourney and DALL-E, and text-to-video AI generators such as Sora.', 'Companies such as OpenAI, Anthropic, Microsoft, Google, and Baidu as well as numerous smaller firms have developed generative AI models.']\n"
     ]
    }
   ],
   "source": [
    "sentences = nltk.sent_tokenize(paragraph)\n",
    "print(sentences)"
   ]
  },
  {
   "cell_type": "code",
   "execution_count": 9,
   "metadata": {},
   "outputs": [],
   "source": [
    "lemmatizer = WordNetLemmatizer()\n",
    "# Lemmatization\n",
    "for i in range(len(sentences)):\n",
    "    words = nltk.word_tokenize(sentences[i])\n",
    "    words = [lemmatizer.lemmatize(word) for word in words if word not in set(stopwords.words('english'))]\n",
    "    sentences[i] = ' '.join(words)"
   ]
  },
  {
   "cell_type": "code",
   "execution_count": 10,
   "metadata": {},
   "outputs": [
    {
     "name": "stdout",
     "output_type": "stream",
     "text": [
      "['Generative artificial intelligence ( generative AI , GenAI , GAI ) artificial intelligence capable generating text , image , video , data using generative model , often response prompt .', 'Generative AI model learn pattern structure input training data generate new data similar characteristic .', 'Improvements transformer-based deep neural network , particularly large language model ( LLMs ) , enabled AI boom generative AI system early 2020s .', 'These include chatbots ChatGPT , Copilot , Gemini LLaMA , text-to-image artificial intelligence image generation system Stable Diffusion , Midjourney DALL-E , text-to-video AI generator Sora .', 'Companies OpenAI , Anthropic , Microsoft , Google , Baidu well numerous smaller firm developed generative AI model .']\n"
     ]
    }
   ],
   "source": [
    "print(sentences)"
   ]
  },
  {
   "cell_type": "code",
   "execution_count": null,
   "metadata": {},
   "outputs": [],
   "source": []
  }
 ],
 "metadata": {
  "kernelspec": {
   "display_name": "venv",
   "language": "python",
   "name": "python3"
  },
  "language_info": {
   "codemirror_mode": {
    "name": "ipython",
    "version": 3
   },
   "file_extension": ".py",
   "mimetype": "text/x-python",
   "name": "python",
   "nbconvert_exporter": "python",
   "pygments_lexer": "ipython3",
   "version": "3.12.4"
  }
 },
 "nbformat": 4,
 "nbformat_minor": 2
}
